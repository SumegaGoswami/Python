{
 "cells": [
  {
   "cell_type": "code",
   "execution_count": 2,
   "id": "a0eeffa4",
   "metadata": {},
   "outputs": [],
   "source": [
    "#Exercise 1: Mailing Address\n",
    "Create a program that displays your name and complete mailing address formatted in\n",
    "the manner that you would usually see it on the outside of an envelope. Your program\n",
    "does not need to read any input from the user."
   ]
  },
  {
   "cell_type": "code",
   "execution_count": 3,
   "id": "7da9d005",
   "metadata": {},
   "outputs": [
    {
     "name": "stdout",
     "output_type": "stream",
     "text": [
      "Sumega Goswami\n",
      "Kunal Riverside, Near Aditya Birla Hospital, Chinchwadgaon\n",
      "Pune\n",
      "Maharashtra 411033\n",
      "India\n",
      "Telephone: 0123456789\n"
     ]
    }
   ],
   "source": [
    "print(\"Sumega Goswami\")\n",
    "print(\"Kunal Riverside, Near Aditya Birla Hospital, Chinchwadgaon\")\n",
    "print(\"Pune\")\n",
    "print(\"Maharashtra 411033\")\n",
    "print(\"India\")\n",
    "print(\"Telephone: 0123456789\")"
   ]
  },
  {
   "cell_type": "code",
   "execution_count": 5,
   "id": "9af85cc6",
   "metadata": {},
   "outputs": [],
   "source": [
    "#Exercise 2: Hello\n",
    "Write a program that asks the user to enter his or her name. The program should\n",
    "respond with a message that says hello to the user, using his or her name"
   ]
  },
  {
   "cell_type": "code",
   "execution_count": 8,
   "id": "366fc3c3",
   "metadata": {},
   "outputs": [
    {
     "name": "stdout",
     "output_type": "stream",
     "text": [
      "enter the name: Sumega Goswami\n",
      "Hello Sumega Goswami\n"
     ]
    }
   ],
   "source": [
    "NAME=str(input(\"enter the name: \"))\n",
    "print(\"Hello\",NAME)"
   ]
  },
  {
   "cell_type": "code",
   "execution_count": null,
   "id": "f33f4a3a",
   "metadata": {},
   "outputs": [],
   "source": [
    "#Exercise 3: Area of a Room\n",
    "Write a program that asks the user to enter the width and length of a room. Once\n",
    "the values have been read, your program should compute and display the area of the\n",
    "room. The length and the width will be entered as floating point numbers. Include\n",
    "units in your prompt and output message; either feet or meters, depending on which\n",
    "unit you are more comfortable working with."
   ]
  },
  {
   "cell_type": "code",
   "execution_count": 10,
   "id": "1a22b0e0",
   "metadata": {},
   "outputs": [
    {
     "name": "stdout",
     "output_type": "stream",
     "text": [
      "Enter the length of the room in feet: 15\n",
      "Enter the width of the room in feet: 15\n",
      "The area of the room is 225.0 square feet\n"
     ]
    }
   ],
   "source": [
    "length = float (input (\"Enter the length of the room in feet: \")) \n",
    "width = float (input (\"Enter the width of the room in feet: \")) \n",
    "area = length * width  \n",
    "print (\"The area of the room is\", area, \"square feet\")"
   ]
  },
  {
   "cell_type": "code",
   "execution_count": 11,
   "id": "62ac486f",
   "metadata": {},
   "outputs": [],
   "source": [
    "#Exercise 4:  Area of a Field\n",
    "Create a program that reads the length and width of a farmer’s field from the user in\n",
    "feet. Display the area of the field in acres.\n",
    "Hint: There are 43,560 square feet in an acre"
   ]
  },
  {
   "cell_type": "code",
   "execution_count": 13,
   "id": "acf67c80",
   "metadata": {},
   "outputs": [
    {
     "name": "stdout",
     "output_type": "stream",
     "text": [
      "Enter the length of the field in feet: 10\n",
      "Enter the width of the field in feet: 10\n",
      "The area of the field is 0.002295684113865932 acres\n"
     ]
    }
   ],
   "source": [
    "SQFT_PER_ACRE = 43560 \n",
    "length = float (input (\"Enter the length of the field in feet: \")) \n",
    "width = float (input (\"Enter the width of the field in feet: \")) \n",
    "acres = length * width / SQFT_PER_ACRE \n",
    "print (\"The area of the field is\", acres, \"acres\") "
   ]
  },
  {
   "cell_type": "code",
   "execution_count": 14,
   "id": "50bde67e",
   "metadata": {},
   "outputs": [],
   "source": [
    "#Exercise 5: Bottle Deposits\n",
    "In many jurisdictions a small deposit is added to drink containers to encourage people\n",
    "to recycle them. In one particular jurisdiction, drink containers holding one liter or\n",
    "less have a $0.10 deposit, and drink containers holding more than one liter have a\n",
    "$0.25 deposit.\n",
    "Write a program that reads the number of containers of each size from the user.\n",
    "Your program should continue by computing and displaying the refund that will be\n",
    "received for returning those containers. Format the output so that it includes a dollar\n",
    "sign and always displays exactly two decimal places."
   ]
  },
  {
   "cell_type": "code",
   "execution_count": 15,
   "id": "44065b13",
   "metadata": {},
   "outputs": [
    {
     "name": "stdout",
     "output_type": "stream",
     "text": [
      "How many containers 1 litre or less? 1\n",
      "How many containers more than 1 litre? 2\n",
      "Your total refund will be $0.60.\n"
     ]
    }
   ],
   "source": [
    "LESS_DEPOSIT = 0.10 \n",
    "MORE_DEPOSIT = 0.25 \n",
    "less = int (input (\"How many containers 1 litre or less? \")) \n",
    "more = int (input (\"How many containers more than 1 litre? \")) \n",
    "refund = less * LESS_DEPOSIT + more * MORE_DEPOSIT \n",
    "print (\"Your total refund will be $%.2f.\" % refund)"
   ]
  },
  {
   "cell_type": "code",
   "execution_count": 16,
   "id": "755b7f95",
   "metadata": {},
   "outputs": [],
   "source": [
    "#Exercise 6: Tax and Tip\n",
    "The program that you create for this exercise will begin by reading the cost of a meal\n",
    "ordered at a restaurant from the user. Then your program will compute the tax and\n",
    "tip for the meal. Use your local tax rate when computing the amount of tax owing.\n",
    "Compute the tip as 18 percent of the meal amount (without the tax). The output from\n",
    "your program should include the tax amount, the tip amount, and the grand total for\n",
    "the meal including both the tax and the tip. Format the output so that all of the values\n",
    "are displayed using two decimal places"
   ]
  },
  {
   "cell_type": "code",
   "execution_count": 19,
   "id": "d699479f",
   "metadata": {},
   "outputs": [
    {
     "name": "stdout",
     "output_type": "stream",
     "text": [
      "Enter the cost of the meal: 100\n",
      "The tax is 5.00 and the tip is 18.00, making the total 123.00\n"
     ]
    }
   ],
   "source": [
    "TAX_RATE = 0.05 \n",
    "TIP_RATE = 0.18\n",
    "cost = float (input (\"Enter the cost of the meal: \")) \n",
    "tax = cost * TAX_RATE \n",
    "tip = cost * TIP_RATE \n",
    "total = cost + tax + tip \n",
    "print (\"The tax is %.2f and the tip is %.2f, making the total %.2f\" % \\\n",
    "       (tax, tip, total))"
   ]
  },
  {
   "cell_type": "code",
   "execution_count": 20,
   "id": "415e8867",
   "metadata": {},
   "outputs": [],
   "source": [
    "#Exercise 7: Sum of the First n Positive Integers\n",
    "Write a program that reads a positive integer, n, from the user and then displays the\n",
    "sum of all of the integers from 1 to n. The sum of the first n positive integers can be\n",
    "computed using the formula:\n",
    "sum = (n)(n + 1) / 2"
   ]
  },
  {
   "cell_type": "code",
   "execution_count": 21,
   "id": "b062f18e",
   "metadata": {},
   "outputs": [
    {
     "name": "stdout",
     "output_type": "stream",
     "text": [
      "Enter a positive integer: 10\n",
      "The sum of the first 10 positive integers is 55.0\n"
     ]
    }
   ],
   "source": [
    "n = int (input (\"Enter a positive integer: \"))\n",
    "sm = n * (n + 1) / 2 \n",
    "print (\"The sum of the first\", n, \"positive integers is\", sm) "
   ]
  },
  {
   "cell_type": "code",
   "execution_count": 22,
   "id": "db3571e8",
   "metadata": {},
   "outputs": [],
   "source": [
    "#Exercise 8: Widgets and Gizmos\n",
    "An online retailer sells two products: widgets and gizmos. Each widget weighs 75\n",
    "grams. Each gizmo weighs 112 grams. Write a program that reads the number of\n",
    "widgets and the number of gizmos in an order from the user. Then your program\n",
    "should compute and display the total weight of the order."
   ]
  },
  {
   "cell_type": "code",
   "execution_count": 23,
   "id": "73eed1b1",
   "metadata": {},
   "outputs": [
    {
     "name": "stdout",
     "output_type": "stream",
     "text": [
      "Enter the number of widgets: 10\n",
      "Enter the number of gizmo: 10\n",
      "The total weight is 1870 grams\n"
     ]
    }
   ],
   "source": [
    "widget = int(input(\"Enter the number of widgets: \"))\n",
    "gizmo = int(input(\"Enter the number of gizmo: \"))\n",
    "wt = 75*widget + 112*gizmo\n",
    "print(\"The total weight is\", wt, \"grams\")"
   ]
  },
  {
   "cell_type": "code",
   "execution_count": 24,
   "id": "a9d02987",
   "metadata": {},
   "outputs": [],
   "source": [
    "#Exercise 9:  Compound Interest\n",
    "Pretend that you have just opened a new savings account that earns 4 percent interest\n",
    "per year. The interest that you earn is paid at the end of the year, and is added\n",
    "to the balance of the savings account. Write a program that begins by reading the\n",
    "amount of money deposited into the account from the user. Then your program should\n",
    "compute and display the amount in the savings account after 1, 2, and 3 years. Display\n",
    "each amount so that it is rounded to 2 decimal places"
   ]
  },
  {
   "cell_type": "code",
   "execution_count": 25,
   "id": "d901aac6",
   "metadata": {},
   "outputs": [
    {
     "name": "stdout",
     "output_type": "stream",
     "text": [
      "Enter the savings amount: 10\n",
      "At the end of the first year, you will have 10.40\n",
      "At the end of the second year, you will have 10.82\n",
      "At the end of the third year, you will have 11.25\n"
     ]
    }
   ],
   "source": [
    "savings = float(input(\"Enter the savings amount: \"))\n",
    "\n",
    "interest = 0.04\n",
    "\n",
    "firstyearend = savings* (1 + 0.04)\n",
    "secondyearend = firstyearend* (1 + 0.04)\n",
    "thirdyearend = secondyearend* (1 + 0.04)\n",
    "\n",
    "print(\"At the end of the first year, you will have {:.2f}\".format(firstyearend))\n",
    "print(\"At the end of the second year, you will have {:.2f}\".format(secondyearend))\n",
    "print(\"At the end of the third year, you will have {:.2f}\".format(thirdyearend))"
   ]
  },
  {
   "cell_type": "code",
   "execution_count": null,
   "id": "9e23e8bd",
   "metadata": {},
   "outputs": [],
   "source": [
    "#Exercise 10:  Arithmetic\n",
    "\n",
    "Create a program that reads two integers, a and b, from the user. Your program should\n",
    "compute and display:\n",
    "• The sum of a and b\n",
    "• The difference when b is subtracted from a\n",
    "• The product of a and b\n",
    "• The quotient when a is divided by b\n",
    "• The remainder when a is divided by b\n",
    "• The result of log10 a\n",
    "• The result of ab"
   ]
  },
  {
   "cell_type": "code",
   "execution_count": 31,
   "id": "c33313b1",
   "metadata": {},
   "outputs": [
    {
     "name": "stdout",
     "output_type": "stream",
     "text": [
      "Enter the value for a: 10\n",
      "Enter the value for b: 10\n",
      "The sum of a and b is  20\n",
      "The difference when b is subtracted from a is  0\n",
      "The product of a and b is  100\n",
      "The quotient when a is divided by b is 1\n",
      "The remainder when a is divided by b is 0\n",
      "The result of log_10(a) is 1.0\n",
      "The result of a^b is 10000000000\n"
     ]
    }
   ],
   "source": [
    "import math\n",
    "a = int(input(\"Enter the value for a: \"))\n",
    "b = int(input(\"Enter the value for b: \"))\n",
    "\n",
    "print(\"The sum of a and b is \", (a+b))\n",
    "print(\"The difference when b is subtracted from a is \", (a-b))\n",
    "print(\"The product of a and b is \", (a*b))\n",
    "print(\"The quotient when a is divided by b is\", (a//b))\n",
    "print(\"The remainder when a is divided by b is\", (a%b))\n",
    "print(\"The result of log_10(a) is\", (math.log10(a)))\n",
    "print(\"The result of a^b is\", (a**b))"
   ]
  },
  {
   "cell_type": "code",
   "execution_count": null,
   "id": "212fafd8",
   "metadata": {},
   "outputs": [],
   "source": []
  }
 ],
 "metadata": {
  "kernelspec": {
   "display_name": "Python 3 (ipykernel)",
   "language": "python",
   "name": "python3"
  },
  "language_info": {
   "codemirror_mode": {
    "name": "ipython",
    "version": 3
   },
   "file_extension": ".py",
   "mimetype": "text/x-python",
   "name": "python",
   "nbconvert_exporter": "python",
   "pygments_lexer": "ipython3",
   "version": "3.9.12"
  }
 },
 "nbformat": 4,
 "nbformat_minor": 5
}
